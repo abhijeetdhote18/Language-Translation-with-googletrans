python -m pip install tkinter
python -m pip install googletrans-py
python -m pip install pyttsx3
